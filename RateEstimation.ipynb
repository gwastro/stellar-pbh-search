{
 "cells": [
  {
   "cell_type": "markdown",
   "metadata": {},
   "source": [
    "# Merger rate density for high mass ratio binary black holes"
   ]
  },
  {
   "cell_type": "markdown",
   "metadata": {},
   "source": [
    "Assume the primary black hole is stellar in origin and the secondary is primordial:\n",
    "\n",
    " $R =  \\sum_\\mathrm{halos}  \n",
    "        \\int_0^{\\sqrt[3]{2}R_\\mathrm{halfmass}} \\frac{\\rho_\\mathrm{NFW}(r)}{M_\\mathrm{PBH}} \\\n",
    "        \\frac{\\rho_\\mathrm{BH}}{M_\\mathrm{BH}}\n",
    "        \\sigma v \\\n",
    "        4\\pi r^2 dr$    "
   ]
  },
  {
   "cell_type": "code",
   "execution_count": 1,
   "metadata": {},
   "outputs": [],
   "source": [
    "import illustris_python as il\n",
    "\n",
    "import numpy as np\n",
    "import matplotlib as mpl\n",
    "import matplotlib.pyplot as plt\n",
    "from scipy import integrate\n",
    "from scipy import optimize\n",
    "\n",
    "# PLOTTING OPTIONS\n",
    "fig_width_pt = 3*246.0  # Get this from LaTeX using \\showthe\\columnwidth\n",
    "inches_per_pt = 1.0/72.27               # Convert pt to inch\n",
    "golden_mean = (np.sqrt(5)-1.0)/2.0         # Aesthetic ratio\n",
    "fig_width = fig_width_pt*inches_per_pt  # width in inches\n",
    "fig_height = fig_width*golden_mean      # height in inches\n",
    "fig_size =  [fig_width,fig_height]\n",
    "\n",
    "params = { 'axes.labelsize': 24,\n",
    "          'font.family': 'serif',\n",
    "          'font.serif': 'Computer Modern Raman',\n",
    "          'font.size': 24,\n",
    "          'legend.fontsize': 20,\n",
    "          'xtick.labelsize': 24,\n",
    "          'ytick.labelsize': 24,\n",
    "          'axes.grid' : True,\n",
    "          'text.usetex': True,\n",
    "          'savefig.dpi' : 100,\n",
    "          'lines.markersize' : 14,\n",
    "          'figure.figsize': fig_size}\n",
    "\n",
    "mpl.rcParams.update(params)\n",
    "\n",
    "G = 6.67e-11 # in SI\n",
    "c = 3e8 # in SI\n",
    "kpc = 1000 * 3.086e16 # in SI(m)\n",
    "solarmass = 1.988435e30 # in kg\n",
    "h = 0.704 # Hubble constant in 100 km/s/Mpc\n",
    "year = 3.154e7 # 1 year in seconds"
   ]
  },
  {
   "cell_type": "markdown",
   "metadata": {},
   "source": [
    "We use the dark matter main subhalo samples from the IllustrisTNG simulation. To implement the following, one needs to download the redshift =0 snapshot for 'TNG100-highres', i.e., the No.135 Groupcat in https://www.illustris-project.org/data/downloads/Illustris-3/"
   ]
  },
  {
   "cell_type": "code",
   "execution_count": 2,
   "metadata": {},
   "outputs": [],
   "source": [
    "basePath = './TNG100-highres/'\n",
    "Subhalos = il.groupcat.loadSubhalos(basePath,99,fields=['SubhaloVmax','SubhaloVmaxRad','SubhaloHalfmassRad','SubhaloHalfmassRadType','SubhaloMassType','SubhaloVelDisp','SubhaloMass'])\n",
    "Halos = il.groupcat.loadHalos(basePath,99,fields=['GroupFirstSub','Group_R_Crit200'])"
   ]
  },
  {
   "cell_type": "code",
   "execution_count": 3,
   "metadata": {},
   "outputs": [],
   "source": [
    "#Select the Main Subhalo given by the 'GroupFirstSub' index\n",
    "MainSubhalo = {}\n",
    "MainSubhalo['Vmax']= Subhalos['SubhaloVmax'][Halos['GroupFirstSub'][:]]\n",
    "MainSubhalo['VmaxRad']= Subhalos['SubhaloVmaxRad'][Halos['GroupFirstSub'][:]]\n",
    "MainSubhalo['HalfmassRadTypeStar'] = Subhalos['SubhaloHalfmassRadType'][Halos['GroupFirstSub'][:]][:,4] #The 4th column for Star\n",
    "#MainSubhalo['StarMass'] = Subhalos['SubhaloMassType'][Halos['GroupFirstSub'][:]][:,4]\n",
    "MainSubhalo['VelDisp'] = Subhalos['SubhaloVelDisp'][Halos['GroupFirstSub'][:]]\n",
    "MainSubhalo['TotalMass'] = Subhalos['SubhaloMass'][Halos['GroupFirstSub'][:]]\n",
    "MainSubhalo['HalfmassRad'] = Subhalos['SubhaloHalfmassRad'][Halos['GroupFirstSub'][:]]\n",
    "\n",
    "#Select those with Star Formation Rate(SFR) > 0\n",
    "MainSubhalo['Vmax']= MainSubhalo['Vmax'][np.where(MainSubhalo['HalfmassRadTypeStar']>0)]\n",
    "MainSubhalo['VmaxRad']= MainSubhalo['VmaxRad'][np.where(MainSubhalo['HalfmassRadTypeStar']>0)]\n",
    "MainSubhalo['VelDisp'] = MainSubhalo['VelDisp'][np.where(MainSubhalo['HalfmassRadTypeStar']>0)]\n",
    "MainSubhalo['TotalMass'] = MainSubhalo['TotalMass'][np.where(MainSubhalo['HalfmassRadTypeStar']>0)]\n",
    "MainSubhalo['HalfmassRad'] = MainSubhalo['HalfmassRad'][np.where(MainSubhalo['HalfmassRadTypeStar'])]\n",
    "MainSubhalo['HalfmassRadTypeStar'] = MainSubhalo['HalfmassRadTypeStar'][np.where(MainSubhalo['HalfmassRadTypeStar'])]\n",
    "\n",
    "MainSubhalo['VelDisp'] = np.float64(MainSubhalo['VelDisp'])"
   ]
  },
  {
   "cell_type": "markdown",
   "metadata": {},
   "source": [
    "There ~$10^5$ main subhalos with non-zero star formation rate"
   ]
  },
  {
   "cell_type": "code",
   "execution_count": 4,
   "metadata": {},
   "outputs": [
    {
     "data": {
      "text/plain": [
       "113455"
      ]
     },
     "execution_count": 4,
     "metadata": {},
     "output_type": "execute_result"
    }
   ],
   "source": [
    "np.size(MainSubhalo['TotalMass'])"
   ]
  },
  {
   "cell_type": "code",
   "execution_count": 5,
   "metadata": {},
   "outputs": [
    {
     "data": {
      "text/plain": [
       "{'Vmax': array([999.38513 , 959.35266 , 983.8356  , ...,  13.835034,  10.112929,\n",
       "         12.982614], dtype=float32),\n",
       " 'VmaxRad': array([3.2782806e+02, 9.6035663e+02, 6.1957056e+02, ..., 9.0901667e-01,\n",
       "        1.4886290e+00, 1.8065341e+00], dtype=float32),\n",
       " 'HalfmassRadTypeStar': array([47.388058 , 88.33855  , 58.37313  , ...,  2.4563506,  5.417963 ,\n",
       "         4.716274 ], dtype=float32),\n",
       " 'VelDisp': array([603.87506104, 594.97125244, 567.02929688, ...,   5.28624725,\n",
       "          4.7164011 ,   4.87724113]),\n",
       " 'TotalMass': array([2.7477936e+04, 2.7463623e+04, 2.3211328e+04, ..., 1.5768630e-02,\n",
       "        1.1256111e-02, 1.1290176e-02], dtype=float32),\n",
       " 'HalfmassRad': array([607.9657   , 682.5038   , 520.0225   , ...,   2.9664137,\n",
       "          2.6135285,   1.5544378], dtype=float32)}"
      ]
     },
     "execution_count": 5,
     "metadata": {},
     "output_type": "execute_result"
    }
   ],
   "source": [
    "MainSubhalo"
   ]
  },
  {
   "cell_type": "markdown",
   "metadata": {},
   "source": [
    "# NFW profile"
   ]
  },
  {
   "cell_type": "code",
   "execution_count": 6,
   "metadata": {},
   "outputs": [],
   "source": [
    "G_for_NFW = G /(1000)**2 *h/kpc * solarmass # the dimension of G is [v]**2[R]/[m], \n",
    "                                           # we convert the unit of [v] to km/s, [R] to ckpc/h, [m] to solar mass\n",
    "\n",
    "def NFWProfilePar(SubhaloVmax,SubhaloVmaxRad):\n",
    "    '''\n",
    "    Input: \n",
    "        Unit of SubhaloVmax: km/s \n",
    "        Unit of SubhaloVmaxRad (Rmax): ckpc/h (comoving kpc / hubble constant 0.704)\n",
    "    \n",
    "    Equations:\n",
    "        Rs = Rmax / 2.163 #2.163 is a numerical factor\n",
    "        Rhos = (Vmax / Rs )**2 / (4pi G) * (1+2.163)**2/2.163\n",
    "    \n",
    "    Output:\n",
    "        Unit of Rs: ckpc/h\n",
    "        Unit of Rhos: M_solar / (ckpc/h)^3\n",
    "    \n",
    "    Reference: The note from Shihong Liao\n",
    "    '''\n",
    "    Rs = SubhaloVmaxRad / 2.163\n",
    "    Rhos = (SubhaloVmax/Rs) **2 / (4*np.pi*G_for_NFW) * (1+2.163)**2/2.163\n",
    "    return [Rhos,Rs]\n",
    "\n",
    "def NFWProfile(Radius,Rhos,Rs):\n",
    "    return Rhos/(Radius/Rs)/(1+Radius/Rs)**2"
   ]
  },
  {
   "cell_type": "code",
   "execution_count": 7,
   "metadata": {},
   "outputs": [],
   "source": [
    "MainSubhalo['NFWRhos'], MainSubhalo['NFWRs'] = NFWProfilePar(MainSubhalo['Vmax'],MainSubhalo['VmaxRad'])"
   ]
  },
  {
   "cell_type": "code",
   "execution_count": 8,
   "metadata": {},
   "outputs": [
    {
     "data": {
      "text/plain": [
       "(array([5.28937850e+06, 5.67966312e+05, 1.43514112e+06, ...,\n",
       "        1.31840216e+08, 2.62670960e+07, 2.93942940e+07], dtype=float32),\n",
       " array([1.5156174e+02, 4.4399286e+02, 2.8644037e+02, ..., 4.2025733e-01,\n",
       "        6.8822420e-01, 8.3519834e-01], dtype=float32))"
      ]
     },
     "execution_count": 8,
     "metadata": {},
     "output_type": "execute_result"
    }
   ],
   "source": [
    "MainSubhalo['NFWRhos'], MainSubhalo['NFWRs']"
   ]
  },
  {
   "cell_type": "markdown",
   "metadata": {},
   "source": [
    "# Gravitational Encounter Cross Section"
   ]
  },
  {
   "cell_type": "code",
   "execution_count": 9,
   "metadata": {},
   "outputs": [],
   "source": [
    "def CrossSection(Mass1, Mass2, Vrel):\n",
    "    '''\n",
    "    Input: \n",
    "        Mass1, Mass2 (solarmass), Vrel(km/s)\n",
    "        \n",
    "    Output:\n",
    "        CrossSection [(ckpc/h)**2]\n",
    "    Ref: \n",
    "        https://iopscience.iop.org/article/10.1086/339472/pdf\n",
    "    '''\n",
    "    Mass1SI = Mass1 * solarmass\n",
    "    Mass2SI = Mass2 * solarmass\n",
    "    VrelSI = Vrel*1000\n",
    "    CSunitconvert = (h/kpc)**2\n",
    "    return 2*np.pi*(85*np.pi/6/np.sqrt(2))**(2/7)*G**2*(Mass1SI+Mass2SI)**(10/7)*(Mass1SI*Mass2SI)**(2/7)/c**(10/7)/VrelSI**(18/7)*CSunitconvert"
   ]
  },
  {
   "cell_type": "markdown",
   "metadata": {},
   "source": [
    " Rate for 0.01$M_\\odot$ -37$M_\\odot$ high mass ratio binaries\n",
    "\n",
    "### $R = 4\\pi \\sigma v  \\frac{0.006\\%*M_\\mathrm{TotalMass}}{M_\\mathrm{BH}\\frac{4}{3}\\pi (\\sqrt[3]{2}R_\\mathrm{halfmass})^3}\\int_0^{\\sqrt[3]{2}R_\\mathrm{halfmass}}r^2 \\frac{\\rho_\\mathrm{NFW}(r)}{M_\\mathrm{PBH}}  dr$"
   ]
  },
  {
   "cell_type": "code",
   "execution_count": 10,
   "metadata": {},
   "outputs": [],
   "source": [
    "MassPBH = 0.01\n",
    "MassBH = 37\n",
    "\n",
    "ratelowlim = 0\n",
    "rateupplimArray = np.cbrt(2)*MainSubhalo['HalfmassRadTypeStar']"
   ]
  },
  {
   "cell_type": "code",
   "execution_count": 11,
   "metadata": {},
   "outputs": [],
   "source": [
    "def RateIntegrand(Radius,NFWRhos,NFWRs,MassPBH):\n",
    "    '''\n",
    "    Radius: ckpc/h\n",
    "    MassPBH, MassBH (M_\\odot)\n",
    "    \n",
    "    '''\n",
    "    return Radius**2 * NFWProfile(Radius,NFWRhos,NFWRs)/MassPBH\n",
    "\n",
    "# The dimension for the result of RateResult is 1.\n",
    "RateResult = []\n",
    "\n",
    "for i in range(np.size(MainSubhalo['NFWRhos'])):\n",
    "    RateCache,err=integrate.quad(RateIntegrand,ratelowlim,rateupplimArray[i],\\\n",
    "        args=(MainSubhalo['NFWRhos'][i], MainSubhalo['NFWRs'][i],MassPBH)\n",
    "        )\n",
    "    RateResult.append(RateCache)"
   ]
  },
  {
   "cell_type": "code",
   "execution_count": 12,
   "metadata": {},
   "outputs": [],
   "source": [
    "Multiplier = 4*np.pi*CrossSection(MassPBH, MassBH,MainSubhalo['VelDisp'])\\\n",
    "              *np.sqrt(3)*MainSubhalo['VelDisp']*1000*(h/kpc)*year \\\n",
    "              *MainSubhalo['TotalMass']*1e10/h/(MassBH)*0.006*0.01 / ( 4/3*np.pi*(np.cbrt(2)*MainSubhalo['HalfmassRadTypeStar'])**3 )"
   ]
  },
  {
   "cell_type": "markdown",
   "metadata": {},
   "source": [
    "The merger rate density in the unit of per 100Mpc^3 per year is:"
   ]
  },
  {
   "cell_type": "code",
   "execution_count": 13,
   "metadata": {},
   "outputs": [
    {
     "data": {
      "text/plain": [
       "1.2056585048829798e-07"
      ]
     },
     "execution_count": 13,
     "metadata": {},
     "output_type": "execute_result"
    }
   ],
   "source": [
    "np.sum(RateResult * Multiplier)"
   ]
  },
  {
   "cell_type": "markdown",
   "metadata": {},
   "source": [
    "# Assume both primary and secondary mass are primordial in origin"
   ]
  },
  {
   "cell_type": "code",
   "execution_count": 14,
   "metadata": {},
   "outputs": [],
   "source": [
    "#load files\n",
    "OGCfile = np.loadtxt('./rate-2ogc.txt')\n",
    "pbhmass = OGCfile[:,0]\n",
    "\n",
    "searchogc = OGCfile[:,1]\n",
    "search20= np.loadtxt('./rate_20.txt')\n",
    "search50= np.loadtxt('./rate_50.txt')\n",
    "ligo = np.loadtxt('./figdataligo.txt')"
   ]
  },
  {
   "cell_type": "markdown",
   "metadata": {},
   "source": [
    "Constraints with fixed f_pbh(primary) = 3e-3"
   ]
  },
  {
   "cell_type": "code",
   "execution_count": 15,
   "metadata": {},
   "outputs": [],
   "source": [
    "def RateFuncForFixedFm1(m1,m2,p_m1):\n",
    "    f_pbh_m1 = 3e-3\n",
    "    p1 = p_m1\n",
    "    p2 = 1-p1\n",
    "    f = f_pbh_m1/p_m1\n",
    "    sigma_eq = 0.005\n",
    "    return 3.3e6*f**2*(0.7*f**2+sigma_eq**2)**(-21./74)*min(p1/m1,p2/m2)*(p1/m1+p2/m2)*(m1*m2)**(3./37)*(m1+m2)**(36./37)"
   ]
  },
  {
   "cell_type": "code",
   "execution_count": 16,
   "metadata": {},
   "outputs": [],
   "source": [
    "primass=37\n",
    "rateresult = searchogc\n",
    "        \n",
    "ResultOGC = []\n",
    "\n",
    "for i,_ in enumerate(pbhmass):\n",
    "    def CacheFunction(p_m1):\n",
    "        return RateFuncForFixedFm1(primass,pbhmass[i],p_m1)-rateresult[i]\n",
    "    sol = optimize.root_scalar(CacheFunction, bracket=[1e-5, 1], method='brentq')\n",
    "    ResultOGC.append(sol.root)"
   ]
  },
  {
   "cell_type": "code",
   "execution_count": 17,
   "metadata": {},
   "outputs": [],
   "source": [
    "primass=20\n",
    "rateresult = search20\n",
    "        \n",
    "Result20 = []\n",
    "\n",
    "for i,_ in enumerate(pbhmass):\n",
    "    def CacheFunction(p_m1):\n",
    "        return RateFuncForFixedFm1(primass,pbhmass[i],p_m1)-rateresult[i]\n",
    "    sol = optimize.root_scalar(CacheFunction, bracket=[1e-5, 1], method='brentq')\n",
    "    Result20.append(sol.root)"
   ]
  },
  {
   "cell_type": "code",
   "execution_count": 18,
   "metadata": {},
   "outputs": [],
   "source": [
    "primass=50\n",
    "rateresult = search50\n",
    "        \n",
    "Result50 = []\n",
    "\n",
    "for i,_ in enumerate(pbhmass):\n",
    "    def CacheFunction(p_m1):\n",
    "        return RateFuncForFixedFm1(primass,pbhmass[i],p_m1)-rateresult[i]\n",
    "    sol = optimize.root_scalar(CacheFunction, bracket=[1e-8, 1], method='brentq')\n",
    "    Result50.append(sol.root)"
   ]
  },
  {
   "cell_type": "code",
   "execution_count": 19,
   "metadata": {},
   "outputs": [
    {
     "name": "stderr",
     "output_type": "stream",
     "text": [
      "findfont: Font family ['serif'] not found. Falling back to DejaVu Sans.\n",
      "findfont: Font family ['serif'] not found. Falling back to DejaVu Sans.\n"
     ]
    },
    {
     "data": {
      "image/png": "[encoded data removed]",
      "text/plain": [
       "<Figure size 735.243x454.405 with 1 Axes>"
      ]
     },
     "metadata": {
      "needs_background": "light"
     },
     "output_type": "display_data"
    }
   ],
   "source": [
    "plt.plot(pbhmass,3e-3/np.array(Result20)*(1-np.array(Result20)),label='20 $M_\\odot$')\n",
    "plt.plot(pbhmass,3e-3/np.array(Result50)*(1-np.array(Result50)),label='50 $M_\\odot$')\n",
    "plt.plot(pbhmass,3e-3/np.array(ResultOGC)*(1-np.array(ResultOGC)),color='k',label='2-OGC Avg.')\n",
    "plt.fill_between(ligo[:,0],ligo[:,1],1, hatch='//',facecolor='none',linewidth=1,edgecolor='tab:green',label='LVC-Subsolar')\n",
    "plt.xscale('log')\n",
    "plt.yscale('log')\n",
    "plt.legend(loc='lower left')\n",
    "plt.xlim(0.01,1)\n",
    "plt.ylim(1e-3,1)\n",
    "plt.legend(title='Primary Mass',loc='lower left')\n",
    "plt.xlabel(r'Secondary Mass$~(M_\\odot)$ ')\n",
    "plt.ylabel(r'$f_\\mathrm{PBH}^{~\\mathrm{secondary}}$')\n",
    "plt.grid(True,which=\"both\")\n",
    "#plt.savefig('0706-fixfm1.pdf',bbox_inches='tight')"
   ]
  },
  {
   "cell_type": "code",
   "execution_count": null,
   "metadata": {},
   "outputs": [],
   "source": []
  }
 ],
 "metadata": {
  "kernelspec": {
   "display_name": "Python 3",
   "language": "python",
   "name": "python3"
  },
  "language_info": {
   "codemirror_mode": {
    "name": "ipython",
    "version": 3
   },
   "file_extension": ".py",
   "mimetype": "text/x-python",
   "name": "python",
   "nbconvert_exporter": "python",
   "pygments_lexer": "ipython3",
   "version": "3.7.4"
  }
 },
 "nbformat": 4,
 "nbformat_minor": 2
}
